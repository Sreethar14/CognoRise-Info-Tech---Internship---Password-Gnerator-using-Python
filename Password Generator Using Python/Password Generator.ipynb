{
 "cells": [
  {
   "cell_type": "code",
   "execution_count": 1,
   "id": "26aa583b",
   "metadata": {},
   "outputs": [],
   "source": [
    "import random\n",
    "import string"
   ]
  },
  {
   "cell_type": "code",
   "execution_count": 2,
   "id": "961fc5b0",
   "metadata": {},
   "outputs": [],
   "source": [
    "def generate_password(length, complexity):\n",
    "    \"\"\"\n",
    "    Generate a random password based on user input.\n",
    "\n",
    "    Args:\n",
    "        length (int): Length of the password.\n",
    "        complexity (str): Level of complexity (e.g., 'low', 'medium', 'high').\n",
    "\n",
    "    Returns:\n",
    "        str: Generated password.\n",
    "    \"\"\"\n",
    "    characters = {\n",
    "        'low': string.ascii_lowercase,\n",
    "        'medium': string.ascii_letters + string.digits,\n",
    "        'high': string.ascii_letters + string.digits + string.punctuation,\n",
    "    }\n",
    "\n",
    "    if complexity not in characters:\n",
    "        raise ValueError(\"Invalid complexity level\")\n",
    "\n",
    "    password = ''.join(random.choice(characters[complexity]) for _ in range(length))\n",
    "    return password"
   ]
  },
  {
   "cell_type": "code",
   "execution_count": 4,
   "id": "2089184d",
   "metadata": {},
   "outputs": [
    {
     "name": "stdout",
     "output_type": "stream",
     "text": [
      "Password Generator Application\n",
      "--------------------------------\n",
      "Enter password length: 9\n",
      "Enter complexity level (low/medium/high): high\n",
      "Generated Password :  'Q87RJ<dG\n"
     ]
    }
   ],
   "source": [
    "def main():\n",
    "    print(\"Password Generator Application\")\n",
    "    print(\"--------------------------------\")\n",
    "\n",
    "    length = int(input(\"Enter password length: \"))\n",
    "    complexity = input(\"Enter complexity level (low/medium/high): \")\n",
    "\n",
    "    password = generate_password(length, complexity)\n",
    "    print(\"Generated Password : \", password)\n",
    "\n",
    "if __name__ == \"__main__\":\n",
    "    main()"
   ]
  },
  {
   "cell_type": "code",
   "execution_count": null,
   "id": "50b1edc8",
   "metadata": {},
   "outputs": [],
   "source": []
  }
 ],
 "metadata": {
  "kernelspec": {
   "display_name": "Python 3 (ipykernel)",
   "language": "python",
   "name": "python3"
  },
  "language_info": {
   "codemirror_mode": {
    "name": "ipython",
    "version": 3
   },
   "file_extension": ".py",
   "mimetype": "text/x-python",
   "name": "python",
   "nbconvert_exporter": "python",
   "pygments_lexer": "ipython3",
   "version": "3.11.5"
  }
 },
 "nbformat": 4,
 "nbformat_minor": 5
}
